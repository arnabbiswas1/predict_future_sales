{
 "cells": [
  {
   "cell_type": "markdown",
   "metadata": {},
   "source": [
    "## Simple benchmark using XGB"
   ]
  },
  {
   "cell_type": "code",
   "execution_count": 1,
   "metadata": {},
   "outputs": [],
   "source": [
    "import os\n",
    "import sys\n",
    "import pandas as pd\n",
    "\n",
    "sys.path.insert(0, os.path.abspath('/home/jupyter/kaggle/predict_future_sales/src/'))\n",
    "\n",
    "import common.com_util as util\n",
    "import config.constants as constants\n",
    "import cv.cv_util as cv\n",
    "import munging.process_data as process_data\n",
    "import modeling.train_util as model"
   ]
  },
  {
   "cell_type": "code",
   "execution_count": 2,
   "metadata": {},
   "outputs": [],
   "source": [
    "%load_ext autoreload\n",
    "%autoreload 2"
   ]
  },
  {
   "cell_type": "code",
   "execution_count": 3,
   "metadata": {},
   "outputs": [
    {
     "name": "stderr",
     "output_type": "stream",
     "text": [
      "/home/jupyter/anaconda3/envs/py37/lib/python3.7/site-packages/pyarrow/pandas_compat.py:752: FutureWarning: .labels was deprecated in version 0.24.0. Use .codes instead.\n",
      "  labels, = index.labels\n"
     ]
    }
   ],
   "source": [
    "logger = util.get_logger('sub_2')\n",
    "\n",
    "train_df = pd.read_feather('/home/jupyter/kaggle/predict_future_sales/data/processed/train_all_merged.feather')\n",
    "test_df = pd.read_feather('/home/jupyter/kaggle/predict_future_sales/data/processed/test_all_merged.feather')\n",
    "\n",
    "train_features = ['shop_id', 'item_id', 'date_block_num', 'item_category_id', 'item_cnt_month']\n",
    "train_df = train_df[train_features]\n",
    "\n",
    "test_features = ['ID', 'shop_id', 'item_id', 'date_block_num', 'item_category_id']\n",
    "test_df = test_df[test_features]\n",
    "\n",
    "sample_submission = pd.read_feather('/home/jupyter/kaggle/predict_future_sales/data/processed/submission_processed.feather')\n",
    "\n",
    "test = test_df.drop(['ID'], axis='columns')\n",
    "\n",
    "# Clip the item_cnt_month within 20\n",
    "train_df.item_cnt_month.clip(lower=0, upper=20, inplace=True)"
   ]
  },
  {
   "cell_type": "code",
   "execution_count": 4,
   "metadata": {},
   "outputs": [
    {
     "name": "stdout",
     "output_type": "stream",
     "text": [
      "[INFO]2020-09-04 06:50:00,331:sub_2:Splitting the data into train and holdout based on months...\n",
      "[INFO]2020-09-04 06:50:00,331:sub_2:Training months [0, 1, 2, 3, 4, 5, 6, 7, 8, 9, 10, 11, 12, 13, 14, 15, 16, 17, 18, 19, 20, 21, 22, 23, 24, 25, 26, 27, 28, 29, 30, 31, 32]\n",
      "[INFO]2020-09-04 06:50:00,333:sub_2:Validation months [33]\n",
      "[INFO]2020-09-04 06:50:01,097:sub_2:Shape of the training data (10675678, 5) \n",
      "[INFO]2020-09-04 06:50:01,098:sub_2:Shape of the validation data (238172, 5)\n"
     ]
    }
   ],
   "source": [
    "TARGET = 'item_cnt_month'\n",
    "ID = 'ID'\n",
    "SEED = 42\n",
    "\n",
    "training_months = [0,  1,  2,  3,  4,  5,  6,  7,  8,  9, 10, 11, 12, 13, 14, 15, 16,\n",
    "       17, 18, 19, 20, 21, 22, 23, 24, 25, 26, 27, 28, 29, 30, 31, 32]\n",
    "holdout_months = [33]\n",
    "\n",
    "training, validation = cv.get_data_splits_by_date_block(logger, train_df, \n",
    "                                                        train_months=training_months, \n",
    "                                                        validation_months=holdout_months)"
   ]
  },
  {
   "cell_type": "code",
   "execution_count": 5,
   "metadata": {},
   "outputs": [],
   "source": [
    "xgb_params = {\n",
    "                # Learning task parameters\n",
    "                'objective': 'reg:squarederror',\n",
    "                'eval_metric': 'rmse',\n",
    "                'seed': SEED,\n",
    "\n",
    "                # Type of the booster\n",
    "                'booster': 'gbtree',\n",
    "                \n",
    "                # parameters for tree booster\n",
    "                'learning_rate': 0.3,\n",
    "                'max_depth': 6,\n",
    "                'max_leaves': 0,\n",
    "                'max_bin': 256,\n",
    "                'early_stopping_rounds' : 100,\n",
    "\n",
    "                # General parameters\n",
    "                'verbosity': 2, #info\n",
    "                }"
   ]
  },
  {
   "cell_type": "code",
   "execution_count": 6,
   "metadata": {},
   "outputs": [],
   "source": [
    "predictors = ['shop_id', 'item_id', 'date_block_num', 'item_category_id']"
   ]
  },
  {
   "cell_type": "code",
   "execution_count": null,
   "metadata": {},
   "outputs": [
    {
     "name": "stdout",
     "output_type": "stream",
     "text": [
      "[INFO]2020-09-04 06:50:01,201:sub_2:Training using XGBoost and validating on holdout\n",
      "[INFO]2020-09-04 06:50:01,276:sub_2:Shape of train_X : (10675678, 4)\n",
      "[INFO]2020-09-04 06:50:01,277:sub_2:Shape of train_Y : (10675678,)\n",
      "[INFO]2020-09-04 06:50:01,278:sub_2:Shape of validation_X : (238172, 4)\n",
      "[INFO]2020-09-04 06:50:01,279:sub_2:Shape of validation_Y : (238172,)\n"
     ]
    },
    {
     "name": "stderr",
     "output_type": "stream",
     "text": [
      "/home/jupyter/anaconda3/envs/py37/lib/python3.7/site-packages/xgboost/core.py:587: FutureWarning: Series.base is deprecated and will be removed in a future version\n",
      "  if getattr(data, 'base', None) is not None and \\\n",
      "/home/jupyter/anaconda3/envs/py37/lib/python3.7/site-packages/xgboost/core.py:588: FutureWarning: Series.base is deprecated and will be removed in a future version\n",
      "  data.base is not None and isinstance(data, np.ndarray) \\\n"
     ]
    },
    {
     "name": "stdout",
     "output_type": "stream",
     "text": [
      "[06:50:05] WARNING: /home/conda/feedstock_root/build_artifacts/xgboost_1566327313563/work/src/learner.cc:686: Tree method is automatically selected to be 'approx' for faster speed. To use old behavior (exact greedy algorithm on single machine), set tree_method to 'exact'.\n",
      "[06:50:18] INFO: /home/conda/feedstock_root/build_artifacts/xgboost_1566327313563/work/src/tree/updater_prune.cc:74: tree pruning end, 1 roots, 124 extra nodes, 0 pruned nodes, max_depth=6\n",
      "[0]\ttrain-rmse:1.1954\tvalid_data-rmse:1.12987\n",
      "Multiple eval metrics have been passed: 'valid_data-rmse' will be used for early stopping.\n",
      "\n",
      "Will train until valid_data-rmse hasn't improved in 100 rounds.\n",
      "[06:50:28] INFO: /home/conda/feedstock_root/build_artifacts/xgboost_1566327313563/work/src/tree/updater_prune.cc:74: tree pruning end, 1 roots, 126 extra nodes, 0 pruned nodes, max_depth=6\n",
      "[06:50:39] INFO: /home/conda/feedstock_root/build_artifacts/xgboost_1566327313563/work/src/tree/updater_prune.cc:74: tree pruning end, 1 roots, 124 extra nodes, 0 pruned nodes, max_depth=6\n",
      "[06:50:49] INFO: /home/conda/feedstock_root/build_artifacts/xgboost_1566327313563/work/src/tree/updater_prune.cc:74: tree pruning end, 1 roots, 126 extra nodes, 0 pruned nodes, max_depth=6\n",
      "[06:50:59] INFO: /home/conda/feedstock_root/build_artifacts/xgboost_1566327313563/work/src/tree/updater_prune.cc:74: tree pruning end, 1 roots, 124 extra nodes, 0 pruned nodes, max_depth=6\n",
      "[06:51:10] INFO: /home/conda/feedstock_root/build_artifacts/xgboost_1566327313563/work/src/tree/updater_prune.cc:74: tree pruning end, 1 roots, 124 extra nodes, 0 pruned nodes, max_depth=6\n",
      "[06:51:20] INFO: /home/conda/feedstock_root/build_artifacts/xgboost_1566327313563/work/src/tree/updater_prune.cc:74: tree pruning end, 1 roots, 124 extra nodes, 0 pruned nodes, max_depth=6\n",
      "[06:51:30] INFO: /home/conda/feedstock_root/build_artifacts/xgboost_1566327313563/work/src/tree/updater_prune.cc:74: tree pruning end, 1 roots, 126 extra nodes, 0 pruned nodes, max_depth=6\n",
      "[06:51:41] INFO: /home/conda/feedstock_root/build_artifacts/xgboost_1566327313563/work/src/tree/updater_prune.cc:74: tree pruning end, 1 roots, 126 extra nodes, 0 pruned nodes, max_depth=6\n",
      "[06:51:51] INFO: /home/conda/feedstock_root/build_artifacts/xgboost_1566327313563/work/src/tree/updater_prune.cc:74: tree pruning end, 1 roots, 126 extra nodes, 0 pruned nodes, max_depth=6\n",
      "[06:52:01] INFO: /home/conda/feedstock_root/build_artifacts/xgboost_1566327313563/work/src/tree/updater_prune.cc:74: tree pruning end, 1 roots, 126 extra nodes, 0 pruned nodes, max_depth=6\n",
      "[06:52:11] INFO: /home/conda/feedstock_root/build_artifacts/xgboost_1566327313563/work/src/tree/updater_prune.cc:74: tree pruning end, 1 roots, 126 extra nodes, 0 pruned nodes, max_depth=6\n",
      "[06:52:22] INFO: /home/conda/feedstock_root/build_artifacts/xgboost_1566327313563/work/src/tree/updater_prune.cc:74: tree pruning end, 1 roots, 126 extra nodes, 0 pruned nodes, max_depth=6\n",
      "[06:52:32] INFO: /home/conda/feedstock_root/build_artifacts/xgboost_1566327313563/work/src/tree/updater_prune.cc:74: tree pruning end, 1 roots, 126 extra nodes, 0 pruned nodes, max_depth=6\n",
      "[06:52:42] INFO: /home/conda/feedstock_root/build_artifacts/xgboost_1566327313563/work/src/tree/updater_prune.cc:74: tree pruning end, 1 roots, 126 extra nodes, 0 pruned nodes, max_depth=6\n",
      "[06:52:52] INFO: /home/conda/feedstock_root/build_artifacts/xgboost_1566327313563/work/src/tree/updater_prune.cc:74: tree pruning end, 1 roots, 126 extra nodes, 0 pruned nodes, max_depth=6\n",
      "[06:53:03] INFO: /home/conda/feedstock_root/build_artifacts/xgboost_1566327313563/work/src/tree/updater_prune.cc:74: tree pruning end, 1 roots, 126 extra nodes, 0 pruned nodes, max_depth=6\n",
      "[06:53:13] INFO: /home/conda/feedstock_root/build_artifacts/xgboost_1566327313563/work/src/tree/updater_prune.cc:74: tree pruning end, 1 roots, 126 extra nodes, 0 pruned nodes, max_depth=6\n",
      "[06:53:23] INFO: /home/conda/feedstock_root/build_artifacts/xgboost_1566327313563/work/src/tree/updater_prune.cc:74: tree pruning end, 1 roots, 116 extra nodes, 0 pruned nodes, max_depth=6\n",
      "[06:53:33] INFO: /home/conda/feedstock_root/build_artifacts/xgboost_1566327313563/work/src/tree/updater_prune.cc:74: tree pruning end, 1 roots, 120 extra nodes, 0 pruned nodes, max_depth=6\n"
     ]
    }
   ],
   "source": [
    "bst, validation_score = model.xgb_train_validate_on_holdout(\n",
    "    logger=logger, training=training, validation=validation, \n",
    "    predictors=predictors, target=TARGET, params=xgb_params, test_X=None, \n",
    "    n_estimators=10000, early_stopping_rounds=100, verbose_eval=100\n",
    ")"
   ]
  },
  {
   "cell_type": "code",
   "execution_count": null,
   "metadata": {},
   "outputs": [],
   "source": [
    "bst.best_iteration, bst.best_score"
   ]
  },
  {
   "cell_type": "code",
   "execution_count": 51,
   "metadata": {},
   "outputs": [
    {
     "data": {
      "text/plain": [
       "1.0364347687294806"
      ]
     },
     "execution_count": 51,
     "metadata": {},
     "output_type": "execute_result"
    }
   ],
   "source": [
    "bst.best_score['valid_0']['rmse']"
   ]
  },
  {
   "cell_type": "code",
   "execution_count": 43,
   "metadata": {},
   "outputs": [],
   "source": [
    "prediction = bst.predict(test, bst.best_iteration)"
   ]
  },
  {
   "cell_type": "code",
   "execution_count": 44,
   "metadata": {},
   "outputs": [
    {
     "data": {
      "text/plain": [
       "214200"
      ]
     },
     "execution_count": 44,
     "metadata": {},
     "output_type": "execute_result"
    }
   ],
   "source": [
    "len(prediction)"
   ]
  },
  {
   "cell_type": "code",
   "execution_count": 45,
   "metadata": {},
   "outputs": [
    {
     "data": {
      "text/plain": [
       "(214200, 5)"
      ]
     },
     "execution_count": 45,
     "metadata": {},
     "output_type": "execute_result"
    }
   ],
   "source": [
    "test_df.shape"
   ]
  },
  {
   "cell_type": "code",
   "execution_count": 46,
   "metadata": {},
   "outputs": [
    {
     "data": {
      "text/html": [
       "<div>\n",
       "<style scoped>\n",
       "    .dataframe tbody tr th:only-of-type {\n",
       "        vertical-align: middle;\n",
       "    }\n",
       "\n",
       "    .dataframe tbody tr th {\n",
       "        vertical-align: top;\n",
       "    }\n",
       "\n",
       "    .dataframe thead th {\n",
       "        text-align: right;\n",
       "    }\n",
       "</style>\n",
       "<table border=\"1\" class=\"dataframe\">\n",
       "  <thead>\n",
       "    <tr style=\"text-align: right;\">\n",
       "      <th></th>\n",
       "      <th>ID</th>\n",
       "      <th>item_cnt_month</th>\n",
       "    </tr>\n",
       "  </thead>\n",
       "  <tbody>\n",
       "    <tr>\n",
       "      <td>0</td>\n",
       "      <td>0</td>\n",
       "      <td>0.5</td>\n",
       "    </tr>\n",
       "    <tr>\n",
       "      <td>1</td>\n",
       "      <td>1</td>\n",
       "      <td>0.5</td>\n",
       "    </tr>\n",
       "    <tr>\n",
       "      <td>2</td>\n",
       "      <td>2</td>\n",
       "      <td>0.5</td>\n",
       "    </tr>\n",
       "    <tr>\n",
       "      <td>3</td>\n",
       "      <td>3</td>\n",
       "      <td>0.5</td>\n",
       "    </tr>\n",
       "    <tr>\n",
       "      <td>4</td>\n",
       "      <td>4</td>\n",
       "      <td>0.5</td>\n",
       "    </tr>\n",
       "  </tbody>\n",
       "</table>\n",
       "</div>"
      ],
      "text/plain": [
       "   ID  item_cnt_month\n",
       "0   0             0.5\n",
       "1   1             0.5\n",
       "2   2             0.5\n",
       "3   3             0.5\n",
       "4   4             0.5"
      ]
     },
     "execution_count": 46,
     "metadata": {},
     "output_type": "execute_result"
    }
   ],
   "source": [
    "sample_submission.head()"
   ]
  },
  {
   "cell_type": "code",
   "execution_count": 28,
   "metadata": {},
   "outputs": [],
   "source": [
    "submission = pd.DataFrame({'ID': test_df.ID, 'item_cnt_month': prediction})"
   ]
  },
  {
   "cell_type": "code",
   "execution_count": 36,
   "metadata": {},
   "outputs": [
    {
     "data": {
      "text/plain": [
       "ID                0\n",
       "item_cnt_month    0\n",
       "dtype: int64"
      ]
     },
     "execution_count": 36,
     "metadata": {},
     "output_type": "execute_result"
    }
   ],
   "source": [
    "submission.to_csv('')"
   ]
  },
  {
   "cell_type": "code",
   "execution_count": null,
   "metadata": {},
   "outputs": [],
   "source": []
  }
 ],
 "metadata": {
  "kernelspec": {
   "display_name": "py_37",
   "language": "python",
   "name": "py_37"
  },
  "language_info": {
   "codemirror_mode": {
    "name": "ipython",
    "version": 3
   },
   "file_extension": ".py",
   "mimetype": "text/x-python",
   "name": "python",
   "nbconvert_exporter": "python",
   "pygments_lexer": "ipython3",
   "version": "3.7.4"
  }
 },
 "nbformat": 4,
 "nbformat_minor": 4
}
