{
 "cells": [
  {
   "cell_type": "code",
   "execution_count": 1,
   "metadata": {},
   "outputs": [],
   "source": [
    "import pandas as pd"
   ]
  },
  {
   "cell_type": "code",
   "execution_count": 2,
   "metadata": {},
   "outputs": [],
   "source": [
    "pd.options.display.max_rows=1000\n",
    "pd.options.display.max_columns=1000\n",
    "\n",
    "DATA_DIR = '/home/jupyter/kaggle/predict_future_sales/data/read_only'"
   ]
  },
  {
   "cell_type": "code",
   "execution_count": 3,
   "metadata": {},
   "outputs": [],
   "source": [
    "def read_data(data_dir, train=True, \n",
    "              test=True, sample_submission=True, \n",
    "              items=True, item_categories=True, \n",
    "              shops=True):\n",
    "    print('Reading Data...')\n",
    "    train_df = None\n",
    "    test_df = None\n",
    "    sample_submission_df = None\n",
    "    items_df = None\n",
    "    item_categories_df = None\n",
    "    shops_df = None\n",
    "    \n",
    "    if train:\n",
    "        train_df = pd.read_csv(f'{data_dir}/sales_train.csv')\n",
    "        print(f'Shape of train_df : {train_df.shape}')\n",
    "    if test:\n",
    "        test_df = pd.read_csv(f'{data_dir}/test.csv')\n",
    "        print(f'Shape of test_df : {test_df.shape}')\n",
    "    if sample_submission:\n",
    "        sample_submission_df = pd.read_csv(f'{data_dir}/sample_submission.csv')\n",
    "        print(f'Shape of sample_submission_df : {sample_submission_df.shape}')\n",
    "    if items:\n",
    "        items_df = pd.read_csv(f'{data_dir}/items.csv')\n",
    "        print(f'Shape of items_df : {items_df.shape}')\n",
    "    if item_categories:\n",
    "        item_categories_df = pd.read_csv(f'{data_dir}/item_categories.csv')\n",
    "        print(f'Shape of item_categories_df : {item_categories_df.shape}')\n",
    "    if shops:\n",
    "        shops_df = pd.read_csv(f'{data_dir}/shops.csv')\n",
    "        print(f'Shape of shops_df : {shops_df.shape}')    \n",
    "    \n",
    "    return train_df, test_df, sample_submission_df, items_df, item_categories_df, shops_df\n",
    "\n",
    "\n",
    "def get_boundary_date_string(date_sr, boundary, date_format='%Y-%m-%d'):\n",
    "    \"\"\"\n",
    "    Returns the first or last date of the series date_sr based on the \n",
    "    value passed in boundary. \n",
    "    \n",
    "    date_sr: Series consisting of date\n",
    "    boundary: Allowed values are 'first' or 'last'\n",
    "    date_format: Format to be used for converting date into String\n",
    "    \"\"\"\n",
    "    return date_sr.describe().loc[boundary].strftime(format='%Y-%m-%d')\n",
    "\n",
    "    \n",
    "def get_first_date_string(date_sr, date_format='%Y-%m-%d'):\n",
    "    \"\"\"\n",
    "    Returns the first date of the series date_sr\n",
    "    \n",
    "    date_sr: Series consisting of date\n",
    "    date_format: Format to be used for converting date into String\n",
    "    \"\"\"\n",
    "    return get_boundary_date_string(date_sr, boundary='first', date_format='%Y-%m-%d')\n",
    "\n",
    "\n",
    "def get_last_date_string(date_sr, date_format='%Y-%m-%d'):\n",
    "    \"\"\"\n",
    "    Returns the last date of the series date_sr\n",
    "\n",
    "    date_sr: Series consisting of date\n",
    "    date_format: Format to be used for converting date into String\n",
    "    \"\"\"\n",
    "    return get_boundary_date_string(date_sr, boundary='last', date_format='%Y-%m-%d')\n",
    "\n",
    "    \n",
    "def find_missing_dates(date_sr, start_date, end_date):\n",
    "    \"\"\"\n",
    "    Returns the dates which are missing in the series\n",
    "    date_sr between the start_date and end_date\n",
    "    \n",
    "    date_sr: Series consisting of date\n",
    "    start_date: Start date in String format\n",
    "    end_date: End date in String format\n",
    "    \"\"\"\n",
    "    return pd.date_range(\n",
    "        start=start_date, end=end_date).difference(date_sr)\n",
    "\n",
    "\n",
    "def merge_df(left_df, right_df, how, on):\n",
    "    \"\"\"\n",
    "    Wrapper on top of Pandas merge. Prints the shape & missing \n",
    "    values before and after merge\n",
    "    \"\"\"\n",
    "    print(f\"Before merge missing values on left_df\")\n",
    "    print(left_df.isna().sum())\n",
    "    print(f\"Before merge missing values on right_df\")\n",
    "    print(right_df.isna().sum())\n",
    "    print(f\"Before merge shape of left_df: {left_df.shape}\")\n",
    "    print(f\"Before merge shape of right_df: {right_df.shape}\")\n",
    "    merged_df = pd.merge(left_df, right_df, how=how, on=on)\n",
    "    print(f\"After merge missing values in merged_df\")\n",
    "    print(merged_df.isna().sum())\n",
    "    print(f\"After merge shape of merged_df {merged_df.shape}\")\n",
    "    return merged_df\n",
    "\n",
    "def prepare_data(train_df, items_df, item_categories_df, shops_df):\n",
    "    item_item_categories_df = merge_df(items_df, item_categories_df, how='outer', on='item_category_id')\n",
    "    print(\"Merging train_df with items ....\")\n",
    "    train_df_item_merged_df = merge_df(train_df, item_item_categories_df, how='left', on='item_id')\n",
    "    print(\"Merging train_df with shops ....\")\n",
    "    train_df_item_shop_merged_df = merge_df(train_df_item_merged_df, shops_df, how='left', on='shop_id')\n",
    "    return train_df_item_shop_merged_df"
   ]
  },
  {
   "cell_type": "code",
   "execution_count": 4,
   "metadata": {},
   "outputs": [
    {
     "name": "stdout",
     "output_type": "stream",
     "text": [
      "Reading Data...\n",
      "Shape of train_df : (2935849, 6)\n",
      "Shape of test_df : (214200, 3)\n",
      "Shape of sample_submission_df : (214200, 2)\n",
      "Shape of items_df : (22170, 3)\n",
      "Shape of item_categories_df : (84, 2)\n",
      "Shape of shops_df : (60, 2)\n"
     ]
    }
   ],
   "source": [
    "train_df, test_df, sample_submission_df, items_df, item_categories_df, shops_df = read_data(DATA_DIR)\n",
    "# Format the date format. This is preferred compared to auti infer\n",
    "train_df.date = pd.to_datetime(train_df.date, format='%d.%m.%Y')\n",
    "# Sort train data based on date\n",
    "train_df.sort_values(by='date', inplace=True)"
   ]
  },
  {
   "cell_type": "markdown",
   "metadata": {},
   "source": [
    "## Explore train_df"
   ]
  },
  {
   "cell_type": "code",
   "execution_count": 5,
   "metadata": {},
   "outputs": [
    {
     "data": {
      "text/html": [
       "<div>\n",
       "<style scoped>\n",
       "    .dataframe tbody tr th:only-of-type {\n",
       "        vertical-align: middle;\n",
       "    }\n",
       "\n",
       "    .dataframe tbody tr th {\n",
       "        vertical-align: top;\n",
       "    }\n",
       "\n",
       "    .dataframe thead th {\n",
       "        text-align: right;\n",
       "    }\n",
       "</style>\n",
       "<table border=\"1\" class=\"dataframe\">\n",
       "  <thead>\n",
       "    <tr style=\"text-align: right;\">\n",
       "      <th></th>\n",
       "      <th>date</th>\n",
       "      <th>date_block_num</th>\n",
       "      <th>shop_id</th>\n",
       "      <th>item_id</th>\n",
       "      <th>item_price</th>\n",
       "      <th>item_cnt_day</th>\n",
       "    </tr>\n",
       "  </thead>\n",
       "  <tbody>\n",
       "    <tr>\n",
       "      <td>49800</td>\n",
       "      <td>2013-01-01</td>\n",
       "      <td>0</td>\n",
       "      <td>18</td>\n",
       "      <td>5823</td>\n",
       "      <td>2500.0</td>\n",
       "      <td>1.0</td>\n",
       "    </tr>\n",
       "    <tr>\n",
       "      <td>29784</td>\n",
       "      <td>2013-01-01</td>\n",
       "      <td>0</td>\n",
       "      <td>27</td>\n",
       "      <td>5573</td>\n",
       "      <td>849.0</td>\n",
       "      <td>1.0</td>\n",
       "    </tr>\n",
       "    <tr>\n",
       "      <td>35476</td>\n",
       "      <td>2013-01-01</td>\n",
       "      <td>0</td>\n",
       "      <td>7</td>\n",
       "      <td>1006</td>\n",
       "      <td>399.0</td>\n",
       "      <td>1.0</td>\n",
       "    </tr>\n",
       "    <tr>\n",
       "      <td>8330</td>\n",
       "      <td>2013-01-01</td>\n",
       "      <td>0</td>\n",
       "      <td>19</td>\n",
       "      <td>17707</td>\n",
       "      <td>899.0</td>\n",
       "      <td>1.0</td>\n",
       "    </tr>\n",
       "    <tr>\n",
       "      <td>57384</td>\n",
       "      <td>2013-01-01</td>\n",
       "      <td>0</td>\n",
       "      <td>14</td>\n",
       "      <td>19548</td>\n",
       "      <td>149.0</td>\n",
       "      <td>1.0</td>\n",
       "    </tr>\n",
       "  </tbody>\n",
       "</table>\n",
       "</div>"
      ],
      "text/plain": [
       "            date  date_block_num  shop_id  item_id  item_price  item_cnt_day\n",
       "49800 2013-01-01               0       18     5823      2500.0           1.0\n",
       "29784 2013-01-01               0       27     5573       849.0           1.0\n",
       "35476 2013-01-01               0        7     1006       399.0           1.0\n",
       "8330  2013-01-01               0       19    17707       899.0           1.0\n",
       "57384 2013-01-01               0       14    19548       149.0           1.0"
      ]
     },
     "execution_count": 5,
     "metadata": {},
     "output_type": "execute_result"
    }
   ],
   "source": [
    "train_df.head()"
   ]
  },
  {
   "cell_type": "code",
   "execution_count": 6,
   "metadata": {},
   "outputs": [
    {
     "data": {
      "text/plain": [
       "date              0\n",
       "date_block_num    0\n",
       "shop_id           0\n",
       "item_id           0\n",
       "item_price        0\n",
       "item_cnt_day      0\n",
       "dtype: int64"
      ]
     },
     "execution_count": 6,
     "metadata": {},
     "output_type": "execute_result"
    }
   ],
   "source": [
    "# Any nulls?\n",
    "train_df.isna().sum()"
   ]
  },
  {
   "cell_type": "code",
   "execution_count": 7,
   "metadata": {},
   "outputs": [
    {
     "data": {
      "text/plain": [
       "56"
      ]
     },
     "execution_count": 7,
     "metadata": {},
     "output_type": "execute_result"
    }
   ],
   "source": [
    "# Is there any duplicate?\n",
    "train_df.duplicated(subset=['date', 'shop_id', 'item_id'], keep=False).sum()"
   ]
  },
  {
   "cell_type": "code",
   "execution_count": 8,
   "metadata": {},
   "outputs": [
    {
     "data": {
      "text/html": [
       "<div>\n",
       "<style scoped>\n",
       "    .dataframe tbody tr th:only-of-type {\n",
       "        vertical-align: middle;\n",
       "    }\n",
       "\n",
       "    .dataframe tbody tr th {\n",
       "        vertical-align: top;\n",
       "    }\n",
       "\n",
       "    .dataframe thead th {\n",
       "        text-align: right;\n",
       "    }\n",
       "</style>\n",
       "<table border=\"1\" class=\"dataframe\">\n",
       "  <thead>\n",
       "    <tr style=\"text-align: right;\">\n",
       "      <th></th>\n",
       "      <th>date</th>\n",
       "      <th>date_block_num</th>\n",
       "      <th>shop_id</th>\n",
       "      <th>item_id</th>\n",
       "      <th>item_price</th>\n",
       "      <th>item_cnt_day</th>\n",
       "    </tr>\n",
       "  </thead>\n",
       "  <tbody>\n",
       "    <tr>\n",
       "      <td>76961</td>\n",
       "      <td>2013-01-05</td>\n",
       "      <td>0</td>\n",
       "      <td>54</td>\n",
       "      <td>20130</td>\n",
       "      <td>149.0</td>\n",
       "      <td>1.0</td>\n",
       "    </tr>\n",
       "    <tr>\n",
       "      <td>76962</td>\n",
       "      <td>2013-01-05</td>\n",
       "      <td>0</td>\n",
       "      <td>54</td>\n",
       "      <td>20130</td>\n",
       "      <td>149.0</td>\n",
       "      <td>1.0</td>\n",
       "    </tr>\n",
       "    <tr>\n",
       "      <td>70718</td>\n",
       "      <td>2013-01-25</td>\n",
       "      <td>0</td>\n",
       "      <td>31</td>\n",
       "      <td>14050</td>\n",
       "      <td>248.0</td>\n",
       "      <td>1.0</td>\n",
       "    </tr>\n",
       "    <tr>\n",
       "      <td>70686</td>\n",
       "      <td>2013-01-25</td>\n",
       "      <td>0</td>\n",
       "      <td>31</td>\n",
       "      <td>14050</td>\n",
       "      <td>349.0</td>\n",
       "      <td>1.0</td>\n",
       "    </tr>\n",
       "    <tr>\n",
       "      <td>103463</td>\n",
       "      <td>2013-01-27</td>\n",
       "      <td>0</td>\n",
       "      <td>38</td>\n",
       "      <td>15702</td>\n",
       "      <td>149.0</td>\n",
       "      <td>-1.0</td>\n",
       "    </tr>\n",
       "  </tbody>\n",
       "</table>\n",
       "</div>"
      ],
      "text/plain": [
       "             date  date_block_num  shop_id  item_id  item_price  item_cnt_day\n",
       "76961  2013-01-05               0       54    20130       149.0           1.0\n",
       "76962  2013-01-05               0       54    20130       149.0           1.0\n",
       "70718  2013-01-25               0       31    14050       248.0           1.0\n",
       "70686  2013-01-25               0       31    14050       349.0           1.0\n",
       "103463 2013-01-27               0       38    15702       149.0          -1.0"
      ]
     },
     "execution_count": 8,
     "metadata": {},
     "output_type": "execute_result"
    }
   ],
   "source": [
    "# Check if there are duplicates?\n",
    "train_df[train_df.duplicated(subset=['date', 'shop_id', 'item_id'], keep=False)].head()"
   ]
  },
  {
   "cell_type": "code",
   "execution_count": 9,
   "metadata": {},
   "outputs": [
    {
     "data": {
      "text/plain": [
       "count                 2935849\n",
       "unique                   1034\n",
       "top       2013-12-28 00:00:00\n",
       "freq                     9434\n",
       "first     2013-01-01 00:00:00\n",
       "last      2015-10-31 00:00:00\n",
       "Name: date, dtype: object"
      ]
     },
     "execution_count": 9,
     "metadata": {},
     "output_type": "execute_result"
    }
   ],
   "source": [
    "train_df.date.describe()"
   ]
  },
  {
   "cell_type": "code",
   "execution_count": 10,
   "metadata": {},
   "outputs": [
    {
     "data": {
      "text/plain": [
       "count    1034.000000\n",
       "mean       45.675048\n",
       "std         2.999325\n",
       "min        17.000000\n",
       "25%        44.000000\n",
       "50%        45.000000\n",
       "75%        48.000000\n",
       "max        52.000000\n",
       "Name: shop_id, dtype: float64"
      ]
     },
     "execution_count": 10,
     "metadata": {},
     "output_type": "execute_result"
    }
   ],
   "source": [
    "train_df.groupby('date').shop_id.nunique().describe()"
   ]
  },
  {
   "cell_type": "code",
   "execution_count": 11,
   "metadata": {},
   "outputs": [
    {
     "data": {
      "text/plain": [
       "1034"
      ]
     },
     "execution_count": 11,
     "metadata": {},
     "output_type": "execute_result"
    }
   ],
   "source": [
    "train_df.date.nunique()"
   ]
  },
  {
   "cell_type": "code",
   "execution_count": 12,
   "metadata": {},
   "outputs": [
    {
     "data": {
      "text/plain": [
       "DatetimeIndex([], dtype='datetime64[ns]', freq=None)"
      ]
     },
     "execution_count": 12,
     "metadata": {},
     "output_type": "execute_result"
    }
   ],
   "source": [
    "# Find if there is any date missing?\n",
    "find_missing_dates(train_df.date, \n",
    "                   start_date=get_first_date_string(train_df.date), \n",
    "                   end_date=get_last_date_string(train_df.date))"
   ]
  },
  {
   "cell_type": "code",
   "execution_count": 13,
   "metadata": {},
   "outputs": [
    {
     "data": {
      "text/plain": [
       "60"
      ]
     },
     "execution_count": 13,
     "metadata": {},
     "output_type": "execute_result"
    }
   ],
   "source": [
    "# How many shops for which training data is there?\n",
    "train_df.shop_id.nunique()"
   ]
  },
  {
   "cell_type": "code",
   "execution_count": 14,
   "metadata": {},
   "outputs": [
    {
     "data": {
      "text/plain": [
       "21807"
      ]
     },
     "execution_count": 14,
     "metadata": {},
     "output_type": "execute_result"
    }
   ],
   "source": [
    "# How many items for which training data is there?\n",
    "train_df.item_id.nunique()"
   ]
  },
  {
   "cell_type": "markdown",
   "metadata": {},
   "source": [
    "## Explore Shops"
   ]
  },
  {
   "cell_type": "code",
   "execution_count": 33,
   "metadata": {},
   "outputs": [
    {
     "data": {
      "text/html": [
       "<div>\n",
       "<style scoped>\n",
       "    .dataframe tbody tr th:only-of-type {\n",
       "        vertical-align: middle;\n",
       "    }\n",
       "\n",
       "    .dataframe tbody tr th {\n",
       "        vertical-align: top;\n",
       "    }\n",
       "\n",
       "    .dataframe thead th {\n",
       "        text-align: right;\n",
       "    }\n",
       "</style>\n",
       "<table border=\"1\" class=\"dataframe\">\n",
       "  <thead>\n",
       "    <tr style=\"text-align: right;\">\n",
       "      <th></th>\n",
       "      <th>shop_name</th>\n",
       "      <th>shop_id</th>\n",
       "    </tr>\n",
       "  </thead>\n",
       "  <tbody>\n",
       "    <tr>\n",
       "      <td>0</td>\n",
       "      <td>!Якутск Орджоникидзе, 56 фран</td>\n",
       "      <td>0</td>\n",
       "    </tr>\n",
       "    <tr>\n",
       "      <td>1</td>\n",
       "      <td>!Якутск ТЦ \"Центральный\" фран</td>\n",
       "      <td>1</td>\n",
       "    </tr>\n",
       "    <tr>\n",
       "      <td>2</td>\n",
       "      <td>Адыгея ТЦ \"Мега\"</td>\n",
       "      <td>2</td>\n",
       "    </tr>\n",
       "    <tr>\n",
       "      <td>3</td>\n",
       "      <td>Балашиха ТРК \"Октябрь-Киномир\"</td>\n",
       "      <td>3</td>\n",
       "    </tr>\n",
       "    <tr>\n",
       "      <td>4</td>\n",
       "      <td>Волжский ТЦ \"Волга Молл\"</td>\n",
       "      <td>4</td>\n",
       "    </tr>\n",
       "  </tbody>\n",
       "</table>\n",
       "</div>"
      ],
      "text/plain": [
       "                        shop_name  shop_id\n",
       "0   !Якутск Орджоникидзе, 56 фран        0\n",
       "1   !Якутск ТЦ \"Центральный\" фран        1\n",
       "2                Адыгея ТЦ \"Мега\"        2\n",
       "3  Балашиха ТРК \"Октябрь-Киномир\"        3\n",
       "4        Волжский ТЦ \"Волга Молл\"        4"
      ]
     },
     "execution_count": 33,
     "metadata": {},
     "output_type": "execute_result"
    }
   ],
   "source": [
    "shops_df.head()"
   ]
  },
  {
   "cell_type": "code",
   "execution_count": 34,
   "metadata": {},
   "outputs": [
    {
     "data": {
      "text/html": [
       "<div>\n",
       "<style scoped>\n",
       "    .dataframe tbody tr th:only-of-type {\n",
       "        vertical-align: middle;\n",
       "    }\n",
       "\n",
       "    .dataframe tbody tr th {\n",
       "        vertical-align: top;\n",
       "    }\n",
       "\n",
       "    .dataframe thead th {\n",
       "        text-align: right;\n",
       "    }\n",
       "</style>\n",
       "<table border=\"1\" class=\"dataframe\">\n",
       "  <thead>\n",
       "    <tr style=\"text-align: right;\">\n",
       "      <th></th>\n",
       "      <th>shop_name</th>\n",
       "      <th>shop_id</th>\n",
       "    </tr>\n",
       "  </thead>\n",
       "  <tbody>\n",
       "    <tr>\n",
       "      <td>55</td>\n",
       "      <td>Цифровой склад 1С-Онлайн</td>\n",
       "      <td>55</td>\n",
       "    </tr>\n",
       "    <tr>\n",
       "      <td>56</td>\n",
       "      <td>Чехов ТРЦ \"Карнавал\"</td>\n",
       "      <td>56</td>\n",
       "    </tr>\n",
       "    <tr>\n",
       "      <td>57</td>\n",
       "      <td>Якутск Орджоникидзе, 56</td>\n",
       "      <td>57</td>\n",
       "    </tr>\n",
       "    <tr>\n",
       "      <td>58</td>\n",
       "      <td>Якутск ТЦ \"Центральный\"</td>\n",
       "      <td>58</td>\n",
       "    </tr>\n",
       "    <tr>\n",
       "      <td>59</td>\n",
       "      <td>Ярославль ТЦ \"Альтаир\"</td>\n",
       "      <td>59</td>\n",
       "    </tr>\n",
       "  </tbody>\n",
       "</table>\n",
       "</div>"
      ],
      "text/plain": [
       "                   shop_name  shop_id\n",
       "55  Цифровой склад 1С-Онлайн       55\n",
       "56      Чехов ТРЦ \"Карнавал\"       56\n",
       "57   Якутск Орджоникидзе, 56       57\n",
       "58   Якутск ТЦ \"Центральный\"       58\n",
       "59    Ярославль ТЦ \"Альтаир\"       59"
      ]
     },
     "execution_count": 34,
     "metadata": {},
     "output_type": "execute_result"
    }
   ],
   "source": [
    "shops_df.tail()"
   ]
  },
  {
   "cell_type": "code",
   "execution_count": 16,
   "metadata": {},
   "outputs": [
    {
     "data": {
      "text/plain": [
       "shop_name    0\n",
       "shop_id      0\n",
       "dtype: int64"
      ]
     },
     "execution_count": 16,
     "metadata": {},
     "output_type": "execute_result"
    }
   ],
   "source": [
    "shops_df.isna().sum()"
   ]
  },
  {
   "cell_type": "code",
   "execution_count": 17,
   "metadata": {},
   "outputs": [
    {
     "data": {
      "text/plain": [
       "shop_name    60\n",
       "shop_id      60\n",
       "dtype: int64"
      ]
     },
     "execution_count": 17,
     "metadata": {},
     "output_type": "execute_result"
    }
   ],
   "source": [
    "shops_df.nunique()"
   ]
  },
  {
   "cell_type": "code",
   "execution_count": 18,
   "metadata": {},
   "outputs": [
    {
     "data": {
      "text/plain": [
       "(0, 2)"
      ]
     },
     "execution_count": 18,
     "metadata": {},
     "output_type": "execute_result"
    }
   ],
   "source": [
    "shops_df[shops_df.duplicated(['shop_name', 'shop_id'], keep=False)].shape"
   ]
  },
  {
   "cell_type": "markdown",
   "metadata": {},
   "source": [
    "## Explore Item Categories"
   ]
  },
  {
   "cell_type": "code",
   "execution_count": 19,
   "metadata": {},
   "outputs": [
    {
     "data": {
      "text/html": [
       "<div>\n",
       "<style scoped>\n",
       "    .dataframe tbody tr th:only-of-type {\n",
       "        vertical-align: middle;\n",
       "    }\n",
       "\n",
       "    .dataframe tbody tr th {\n",
       "        vertical-align: top;\n",
       "    }\n",
       "\n",
       "    .dataframe thead th {\n",
       "        text-align: right;\n",
       "    }\n",
       "</style>\n",
       "<table border=\"1\" class=\"dataframe\">\n",
       "  <thead>\n",
       "    <tr style=\"text-align: right;\">\n",
       "      <th></th>\n",
       "      <th>item_category_name</th>\n",
       "      <th>item_category_id</th>\n",
       "    </tr>\n",
       "  </thead>\n",
       "  <tbody>\n",
       "    <tr>\n",
       "      <td>0</td>\n",
       "      <td>PC - Гарнитуры/Наушники</td>\n",
       "      <td>0</td>\n",
       "    </tr>\n",
       "    <tr>\n",
       "      <td>1</td>\n",
       "      <td>Аксессуары - PS2</td>\n",
       "      <td>1</td>\n",
       "    </tr>\n",
       "    <tr>\n",
       "      <td>2</td>\n",
       "      <td>Аксессуары - PS3</td>\n",
       "      <td>2</td>\n",
       "    </tr>\n",
       "    <tr>\n",
       "      <td>3</td>\n",
       "      <td>Аксессуары - PS4</td>\n",
       "      <td>3</td>\n",
       "    </tr>\n",
       "    <tr>\n",
       "      <td>4</td>\n",
       "      <td>Аксессуары - PSP</td>\n",
       "      <td>4</td>\n",
       "    </tr>\n",
       "  </tbody>\n",
       "</table>\n",
       "</div>"
      ],
      "text/plain": [
       "        item_category_name  item_category_id\n",
       "0  PC - Гарнитуры/Наушники                 0\n",
       "1         Аксессуары - PS2                 1\n",
       "2         Аксессуары - PS3                 2\n",
       "3         Аксессуары - PS4                 3\n",
       "4         Аксессуары - PSP                 4"
      ]
     },
     "execution_count": 19,
     "metadata": {},
     "output_type": "execute_result"
    }
   ],
   "source": [
    "item_categories_df.head()"
   ]
  },
  {
   "cell_type": "code",
   "execution_count": 20,
   "metadata": {},
   "outputs": [
    {
     "data": {
      "text/plain": [
       "item_category_name    84\n",
       "item_category_id      84\n",
       "dtype: int64"
      ]
     },
     "execution_count": 20,
     "metadata": {},
     "output_type": "execute_result"
    }
   ],
   "source": [
    "item_categories_df.nunique()"
   ]
  },
  {
   "cell_type": "code",
   "execution_count": 21,
   "metadata": {},
   "outputs": [
    {
     "data": {
      "text/plain": [
       "item_category_name    0\n",
       "item_category_id      0\n",
       "dtype: int64"
      ]
     },
     "execution_count": 21,
     "metadata": {},
     "output_type": "execute_result"
    }
   ],
   "source": [
    "item_categories_df.isna().sum()"
   ]
  },
  {
   "cell_type": "markdown",
   "metadata": {},
   "source": [
    "## Explore Items"
   ]
  },
  {
   "cell_type": "code",
   "execution_count": 22,
   "metadata": {},
   "outputs": [
    {
     "data": {
      "text/html": [
       "<div>\n",
       "<style scoped>\n",
       "    .dataframe tbody tr th:only-of-type {\n",
       "        vertical-align: middle;\n",
       "    }\n",
       "\n",
       "    .dataframe tbody tr th {\n",
       "        vertical-align: top;\n",
       "    }\n",
       "\n",
       "    .dataframe thead th {\n",
       "        text-align: right;\n",
       "    }\n",
       "</style>\n",
       "<table border=\"1\" class=\"dataframe\">\n",
       "  <thead>\n",
       "    <tr style=\"text-align: right;\">\n",
       "      <th></th>\n",
       "      <th>item_name</th>\n",
       "      <th>item_id</th>\n",
       "      <th>item_category_id</th>\n",
       "    </tr>\n",
       "  </thead>\n",
       "  <tbody>\n",
       "    <tr>\n",
       "      <td>0</td>\n",
       "      <td>! ВО ВЛАСТИ НАВАЖДЕНИЯ (ПЛАСТ.)         D</td>\n",
       "      <td>0</td>\n",
       "      <td>40</td>\n",
       "    </tr>\n",
       "    <tr>\n",
       "      <td>1</td>\n",
       "      <td>!ABBYY FineReader 12 Professional Edition Full...</td>\n",
       "      <td>1</td>\n",
       "      <td>76</td>\n",
       "    </tr>\n",
       "    <tr>\n",
       "      <td>2</td>\n",
       "      <td>***В ЛУЧАХ СЛАВЫ   (UNV)                    D</td>\n",
       "      <td>2</td>\n",
       "      <td>40</td>\n",
       "    </tr>\n",
       "    <tr>\n",
       "      <td>3</td>\n",
       "      <td>***ГОЛУБАЯ ВОЛНА  (Univ)                      D</td>\n",
       "      <td>3</td>\n",
       "      <td>40</td>\n",
       "    </tr>\n",
       "    <tr>\n",
       "      <td>4</td>\n",
       "      <td>***КОРОБКА (СТЕКЛО)                       D</td>\n",
       "      <td>4</td>\n",
       "      <td>40</td>\n",
       "    </tr>\n",
       "  </tbody>\n",
       "</table>\n",
       "</div>"
      ],
      "text/plain": [
       "                                           item_name  item_id  \\\n",
       "0          ! ВО ВЛАСТИ НАВАЖДЕНИЯ (ПЛАСТ.)         D        0   \n",
       "1  !ABBYY FineReader 12 Professional Edition Full...        1   \n",
       "2      ***В ЛУЧАХ СЛАВЫ   (UNV)                    D        2   \n",
       "3    ***ГОЛУБАЯ ВОЛНА  (Univ)                      D        3   \n",
       "4        ***КОРОБКА (СТЕКЛО)                       D        4   \n",
       "\n",
       "   item_category_id  \n",
       "0                40  \n",
       "1                76  \n",
       "2                40  \n",
       "3                40  \n",
       "4                40  "
      ]
     },
     "execution_count": 22,
     "metadata": {},
     "output_type": "execute_result"
    }
   ],
   "source": [
    "items_df.head()"
   ]
  },
  {
   "cell_type": "code",
   "execution_count": 23,
   "metadata": {},
   "outputs": [
    {
     "data": {
      "text/plain": [
       "item_name           0\n",
       "item_id             0\n",
       "item_category_id    0\n",
       "dtype: int64"
      ]
     },
     "execution_count": 23,
     "metadata": {},
     "output_type": "execute_result"
    }
   ],
   "source": [
    "items_df.isna().sum()"
   ]
  },
  {
   "cell_type": "code",
   "execution_count": 24,
   "metadata": {},
   "outputs": [
    {
     "data": {
      "text/plain": [
       "22170"
      ]
     },
     "execution_count": 24,
     "metadata": {},
     "output_type": "execute_result"
    }
   ],
   "source": [
    "items_df.item_id.nunique()"
   ]
  },
  {
   "cell_type": "code",
   "execution_count": 25,
   "metadata": {},
   "outputs": [
    {
     "data": {
      "text/plain": [
       "84"
      ]
     },
     "execution_count": 25,
     "metadata": {},
     "output_type": "execute_result"
    }
   ],
   "source": [
    "items_df.item_category_id.nunique()"
   ]
  },
  {
   "cell_type": "code",
   "execution_count": 26,
   "metadata": {},
   "outputs": [
    {
     "data": {
      "text/plain": [
       "22170"
      ]
     },
     "execution_count": 26,
     "metadata": {},
     "output_type": "execute_result"
    }
   ],
   "source": [
    "items_df.groupby('item_category_id')['item_id'].nunique().sum()"
   ]
  },
  {
   "cell_type": "markdown",
   "metadata": {},
   "source": [
    "## Explore Test Data"
   ]
  },
  {
   "cell_type": "code",
   "execution_count": 27,
   "metadata": {},
   "outputs": [
    {
     "data": {
      "text/html": [
       "<div>\n",
       "<style scoped>\n",
       "    .dataframe tbody tr th:only-of-type {\n",
       "        vertical-align: middle;\n",
       "    }\n",
       "\n",
       "    .dataframe tbody tr th {\n",
       "        vertical-align: top;\n",
       "    }\n",
       "\n",
       "    .dataframe thead th {\n",
       "        text-align: right;\n",
       "    }\n",
       "</style>\n",
       "<table border=\"1\" class=\"dataframe\">\n",
       "  <thead>\n",
       "    <tr style=\"text-align: right;\">\n",
       "      <th></th>\n",
       "      <th>ID</th>\n",
       "      <th>shop_id</th>\n",
       "      <th>item_id</th>\n",
       "    </tr>\n",
       "  </thead>\n",
       "  <tbody>\n",
       "    <tr>\n",
       "      <td>0</td>\n",
       "      <td>0</td>\n",
       "      <td>5</td>\n",
       "      <td>5037</td>\n",
       "    </tr>\n",
       "    <tr>\n",
       "      <td>1</td>\n",
       "      <td>1</td>\n",
       "      <td>5</td>\n",
       "      <td>5320</td>\n",
       "    </tr>\n",
       "    <tr>\n",
       "      <td>2</td>\n",
       "      <td>2</td>\n",
       "      <td>5</td>\n",
       "      <td>5233</td>\n",
       "    </tr>\n",
       "    <tr>\n",
       "      <td>3</td>\n",
       "      <td>3</td>\n",
       "      <td>5</td>\n",
       "      <td>5232</td>\n",
       "    </tr>\n",
       "    <tr>\n",
       "      <td>4</td>\n",
       "      <td>4</td>\n",
       "      <td>5</td>\n",
       "      <td>5268</td>\n",
       "    </tr>\n",
       "  </tbody>\n",
       "</table>\n",
       "</div>"
      ],
      "text/plain": [
       "   ID  shop_id  item_id\n",
       "0   0        5     5037\n",
       "1   1        5     5320\n",
       "2   2        5     5233\n",
       "3   3        5     5232\n",
       "4   4        5     5268"
      ]
     },
     "execution_count": 27,
     "metadata": {},
     "output_type": "execute_result"
    }
   ],
   "source": [
    "test_df.head()"
   ]
  },
  {
   "cell_type": "code",
   "execution_count": 28,
   "metadata": {},
   "outputs": [
    {
     "data": {
      "text/plain": [
       "42"
      ]
     },
     "execution_count": 28,
     "metadata": {},
     "output_type": "execute_result"
    }
   ],
   "source": [
    "test_df.shop_id.nunique()"
   ]
  },
  {
   "cell_type": "code",
   "execution_count": 29,
   "metadata": {},
   "outputs": [
    {
     "data": {
      "text/plain": [
       "5100"
      ]
     },
     "execution_count": 29,
     "metadata": {},
     "output_type": "execute_result"
    }
   ],
   "source": [
    "test_df.item_id.nunique()"
   ]
  },
  {
   "cell_type": "code",
   "execution_count": 30,
   "metadata": {},
   "outputs": [
    {
     "data": {
      "text/plain": [
       "shop_id\n",
       "2     5100\n",
       "3     5100\n",
       "4     5100\n",
       "5     5100\n",
       "6     5100\n",
       "7     5100\n",
       "10    5100\n",
       "12    5100\n",
       "14    5100\n",
       "15    5100\n",
       "16    5100\n",
       "18    5100\n",
       "19    5100\n",
       "21    5100\n",
       "22    5100\n",
       "24    5100\n",
       "25    5100\n",
       "26    5100\n",
       "28    5100\n",
       "31    5100\n",
       "34    5100\n",
       "35    5100\n",
       "36    5100\n",
       "37    5100\n",
       "38    5100\n",
       "39    5100\n",
       "41    5100\n",
       "42    5100\n",
       "44    5100\n",
       "45    5100\n",
       "46    5100\n",
       "47    5100\n",
       "48    5100\n",
       "49    5100\n",
       "50    5100\n",
       "52    5100\n",
       "53    5100\n",
       "55    5100\n",
       "56    5100\n",
       "57    5100\n",
       "58    5100\n",
       "59    5100\n",
       "Name: item_id, dtype: int64"
      ]
     },
     "execution_count": 30,
     "metadata": {},
     "output_type": "execute_result"
    }
   ],
   "source": [
    "# For each shop, how many items that need to be predicted\n",
    "test_df.groupby('shop_id').item_id.nunique()"
   ]
  },
  {
   "cell_type": "markdown",
   "metadata": {},
   "source": [
    "### Train Data : Let's do a small test to understand if the items are the same across all the stores or not.\n",
    "\n",
    "I compare the items in Store 5 with all other stores. If there is any differnce it should be reflected here."
   ]
  },
  {
   "cell_type": "code",
   "execution_count": 36,
   "metadata": {},
   "outputs": [
    {
     "name": "stdout",
     "output_type": "stream",
     "text": [
      "For shop 18 number of items different from shop 5 are 3398\n",
      "For shop 27 number of items different from shop 5 are 4585\n",
      "For shop 7 number of items different from shop 5 are 2403\n",
      "For shop 19 number of items different from shop 5 are 3332\n",
      "For shop 14 number of items different from shop 5 are 2231\n",
      "For shop 8 number of items different from shop 5 are 738\n",
      "For shop 28 number of items different from shop 5 are 5847\n",
      "For shop 51 number of items different from shop 5 are 3111\n",
      "For shop 54 number of items different from shop 5 are 7551\n",
      "For shop 42 number of items different from shop 5 are 5402\n",
      "For shop 46 number of items different from shop 5 are 3019\n",
      "For shop 37 number of items different from shop 5 are 3226\n",
      "For shop 15 number of items different from shop 5 are 2516\n",
      "For shop 41 number of items different from shop 5 are 1984\n",
      "For shop 13 number of items different from shop 5 are 1542\n",
      "For shop 38 number of items different from shop 5 are 2106\n",
      "For shop 2 number of items different from shop 5 are 1117\n",
      "For shop 56 number of items different from shop 5 are 4677\n",
      "For shop 6 number of items different from shop 5 are 5352\n",
      "For shop 3 number of items different from shop 5 are 903\n",
      "For shop 31 number of items different from shop 5 are 7472\n",
      "For shop 29 number of items different from shop 5 are 2416\n",
      "For shop 35 number of items different from shop 5 are 3114\n",
      "For shop 23 number of items different from shop 5 are 1281\n",
      "For shop 45 number of items different from shop 5 are 1963\n",
      "For shop 4 number of items different from shop 5 are 2022\n",
      "For shop 53 number of items different from shop 5 are 1871\n",
      "For shop 50 number of items different from shop 5 are 3110\n",
      "For shop 47 number of items different from shop 5 are 2176\n",
      "For shop 59 number of items different from shop 5 are 1930\n",
      "For shop 25 number of items different from shop 5 are 8451\n",
      "For shop 44 number of items different from shop 5 are 3170\n",
      "For shop 52 number of items different from shop 5 are 2768\n",
      "For shop 16 number of items different from shop 5 are 3570\n",
      "For shop 32 number of items different from shop 5 are 1279\n",
      "For shop 22 number of items different from shop 5 are 2987\n",
      "For shop 26 number of items different from shop 5 are 3285\n",
      "For shop 21 number of items different from shop 5 are 4017\n",
      "For shop 24 number of items different from shop 5 are 2633\n",
      "For shop 30 number of items different from shop 5 are 3986\n",
      "For shop 10 number of items different from shop 5 are 1650\n",
      "For shop 43 number of items different from shop 5 are 2007\n",
      "For shop 1 number of items different from shop 5 are 983\n",
      "For shop 0 number of items different from shop 5 are 1747\n",
      "For shop 12 number of items different from shop 5 are 3065\n",
      "For shop 5 number of items different from shop 5 are 0\n",
      "For shop 57 number of items different from shop 5 are 5599\n",
      "For shop 58 number of items different from shop 5 are 2423\n",
      "For shop 55 number of items different from shop 5 are 1985\n",
      "For shop 17 number of items different from shop 5 are 1194\n",
      "For shop 9 number of items different from shop 5 are 652\n",
      "For shop 49 number of items different from shop 5 are 475\n",
      "For shop 39 number of items different from shop 5 are 803\n",
      "For shop 40 number of items different from shop 5 are 126\n",
      "For shop 48 number of items different from shop 5 are 676\n",
      "For shop 34 number of items different from shop 5 are 259\n",
      "For shop 33 number of items different from shop 5 are 172\n",
      "For shop 20 number of items different from shop 5 are 518\n",
      "For shop 11 number of items different from shop 5 are 35\n",
      "For shop 36 number of items different from shop 5 are 35\n"
     ]
    }
   ],
   "source": [
    "train_shop_list = list(train_df.shop_id.unique())\n",
    "\n",
    "items_in_shop_5 = set(train_df[train_df.shop_id == 5]['item_id'].unique())\n",
    "for shop in train_shop_list:\n",
    "    diff = len(set(train_df[train_df.shop_id == shop]['item_id'].unique()) - items_in_shop_5)\n",
    "    print(f'For shop {shop} number of items different from shop 5 are {diff}')"
   ]
  },
  {
   "cell_type": "markdown",
   "metadata": {},
   "source": [
    "### Train Data : For a single shop check if the number of items are the same across month\n",
    "\n",
    "I compare the items in Store 5 across all the months"
   ]
  },
  {
   "cell_type": "code",
   "execution_count": 38,
   "metadata": {},
   "outputs": [],
   "source": [
    "train_df['month'] = train_df.date.dt.month"
   ]
  },
  {
   "cell_type": "code",
   "execution_count": 40,
   "metadata": {},
   "outputs": [],
   "source": [
    "train_df_5 = train_df[train_df.shop_id == 5]"
   ]
  },
  {
   "cell_type": "code",
   "execution_count": 41,
   "metadata": {},
   "outputs": [
    {
     "data": {
      "text/plain": [
       "month\n",
       "1     [15063, 7207, 7059, 7980, 14826, 16215, 16205,...\n",
       "2     [21565, 15104, 4906, 7978, 2319, 2750, 1409, 1...\n",
       "3     [22020, 21705, 13878, 12745, 19811, 14752, 174...\n",
       "4     [12691, 14574, 18749, 19415, 19195, 4366, 2827...\n",
       "5     [6156, 7860, 8283, 7888, 6575, 6699, 6611, 182...\n",
       "6     [5921, 5272, 6652, 6954, 11856, 11854, 11870, ...\n",
       "7     [13937, 5587, 5821, 6466, 6457, 6111, 6490, 64...\n",
       "8     [6774, 7259, 7272, 7072, 2929, 4372, 972, 1421...\n",
       "9     [14883, 15472, 15463, 15462, 15458, 15455, 154...\n",
       "10    [5616, 6086, 1740, 3719, 3331, 14861, 16523, 1...\n",
       "11    [20949, 20237, 21918, 22072, 13946, 13614, 107...\n",
       "12    [13629, 6675, 7207, 7206, 7203, 7096, 6498, 64...\n",
       "Name: item_id, dtype: object"
      ]
     },
     "execution_count": 41,
     "metadata": {},
     "output_type": "execute_result"
    }
   ],
   "source": [
    "train_df_5.groupby('month')['item_id'].nunique()"
   ]
  },
  {
   "cell_type": "markdown",
   "metadata": {},
   "source": [
    "### Test Data : Let's do a small test to understand if the items are the same across all the stores or not.\n",
    "\n",
    "I compare the items in Store 5 with all other stores. If there is any differnce it should be reflected here."
   ]
  },
  {
   "cell_type": "code",
   "execution_count": 31,
   "metadata": {},
   "outputs": [
    {
     "name": "stdout",
     "output_type": "stream",
     "text": [
      "For shop 5 number of items different from shop 5 are 0\n",
      "For shop 5 number of items different from shop 5 are 0\n",
      "For shop 4 number of items different from shop 5 are 0\n",
      "For shop 4 number of items different from shop 5 are 0\n",
      "For shop 6 number of items different from shop 5 are 0\n",
      "For shop 6 number of items different from shop 5 are 0\n",
      "For shop 3 number of items different from shop 5 are 0\n",
      "For shop 3 number of items different from shop 5 are 0\n",
      "For shop 2 number of items different from shop 5 are 0\n",
      "For shop 2 number of items different from shop 5 are 0\n",
      "For shop 7 number of items different from shop 5 are 0\n",
      "For shop 7 number of items different from shop 5 are 0\n",
      "For shop 10 number of items different from shop 5 are 0\n",
      "For shop 10 number of items different from shop 5 are 0\n",
      "For shop 12 number of items different from shop 5 are 0\n",
      "For shop 12 number of items different from shop 5 are 0\n",
      "For shop 28 number of items different from shop 5 are 0\n",
      "For shop 28 number of items different from shop 5 are 0\n",
      "For shop 31 number of items different from shop 5 are 0\n",
      "For shop 31 number of items different from shop 5 are 0\n",
      "For shop 26 number of items different from shop 5 are 0\n",
      "For shop 26 number of items different from shop 5 are 0\n",
      "For shop 25 number of items different from shop 5 are 0\n",
      "For shop 25 number of items different from shop 5 are 0\n",
      "For shop 22 number of items different from shop 5 are 0\n",
      "For shop 22 number of items different from shop 5 are 0\n",
      "For shop 24 number of items different from shop 5 are 0\n",
      "For shop 24 number of items different from shop 5 are 0\n",
      "For shop 21 number of items different from shop 5 are 0\n",
      "For shop 21 number of items different from shop 5 are 0\n",
      "For shop 15 number of items different from shop 5 are 0\n",
      "For shop 15 number of items different from shop 5 are 0\n",
      "For shop 16 number of items different from shop 5 are 0\n",
      "For shop 16 number of items different from shop 5 are 0\n",
      "For shop 18 number of items different from shop 5 are 0\n",
      "For shop 18 number of items different from shop 5 are 0\n",
      "For shop 14 number of items different from shop 5 are 0\n",
      "For shop 14 number of items different from shop 5 are 0\n",
      "For shop 19 number of items different from shop 5 are 0\n",
      "For shop 19 number of items different from shop 5 are 0\n",
      "For shop 42 number of items different from shop 5 are 0\n",
      "For shop 42 number of items different from shop 5 are 0\n",
      "For shop 50 number of items different from shop 5 are 0\n",
      "For shop 50 number of items different from shop 5 are 0\n",
      "For shop 49 number of items different from shop 5 are 0\n",
      "For shop 49 number of items different from shop 5 are 0\n",
      "For shop 53 number of items different from shop 5 are 0\n",
      "For shop 53 number of items different from shop 5 are 0\n",
      "For shop 52 number of items different from shop 5 are 0\n",
      "For shop 52 number of items different from shop 5 are 0\n",
      "For shop 47 number of items different from shop 5 are 0\n",
      "For shop 47 number of items different from shop 5 are 0\n",
      "For shop 48 number of items different from shop 5 are 0\n",
      "For shop 48 number of items different from shop 5 are 0\n",
      "For shop 57 number of items different from shop 5 are 0\n",
      "For shop 57 number of items different from shop 5 are 0\n",
      "For shop 58 number of items different from shop 5 are 0\n",
      "For shop 58 number of items different from shop 5 are 0\n",
      "For shop 59 number of items different from shop 5 are 0\n",
      "For shop 59 number of items different from shop 5 are 0\n",
      "For shop 55 number of items different from shop 5 are 0\n",
      "For shop 55 number of items different from shop 5 are 0\n",
      "For shop 56 number of items different from shop 5 are 0\n",
      "For shop 56 number of items different from shop 5 are 0\n",
      "For shop 36 number of items different from shop 5 are 0\n",
      "For shop 36 number of items different from shop 5 are 0\n",
      "For shop 37 number of items different from shop 5 are 0\n",
      "For shop 37 number of items different from shop 5 are 0\n",
      "For shop 35 number of items different from shop 5 are 0\n",
      "For shop 35 number of items different from shop 5 are 0\n",
      "For shop 38 number of items different from shop 5 are 0\n",
      "For shop 38 number of items different from shop 5 are 0\n",
      "For shop 34 number of items different from shop 5 are 0\n",
      "For shop 34 number of items different from shop 5 are 0\n",
      "For shop 46 number of items different from shop 5 are 0\n",
      "For shop 46 number of items different from shop 5 are 0\n",
      "For shop 41 number of items different from shop 5 are 0\n",
      "For shop 41 number of items different from shop 5 are 0\n",
      "For shop 44 number of items different from shop 5 are 0\n",
      "For shop 44 number of items different from shop 5 are 0\n",
      "For shop 39 number of items different from shop 5 are 0\n",
      "For shop 39 number of items different from shop 5 are 0\n",
      "For shop 45 number of items different from shop 5 are 0\n",
      "For shop 45 number of items different from shop 5 are 0\n"
     ]
    }
   ],
   "source": [
    "test_shop_list = list(test_df.shop_id.unique())\n",
    "\n",
    "items_in_shop_5 = set(test_df[test_df.shop_id == 5]['item_id'].unique())\n",
    "for shop in test_shop_list:\n",
    "    diff = len(set(test_df[test_df.shop_id == shop]['item_id'].unique()) - items_in_shop_5)\n",
    "    print(f'For shop {shop} number of items different from shop 5 are {diff}')\n",
    "    diff = len(items_in_shop_5 - set(test_df[test_df.shop_id == shop]['item_id'].unique()))\n",
    "    print(f'For shop {shop} number of items different from shop 5 are {diff}')"
   ]
  },
  {
   "cell_type": "markdown",
   "metadata": {},
   "source": [
    "## Explore Submission"
   ]
  },
  {
   "cell_type": "code",
   "execution_count": 30,
   "metadata": {},
   "outputs": [
    {
     "data": {
      "text/html": [
       "<div>\n",
       "<style scoped>\n",
       "    .dataframe tbody tr th:only-of-type {\n",
       "        vertical-align: middle;\n",
       "    }\n",
       "\n",
       "    .dataframe tbody tr th {\n",
       "        vertical-align: top;\n",
       "    }\n",
       "\n",
       "    .dataframe thead th {\n",
       "        text-align: right;\n",
       "    }\n",
       "</style>\n",
       "<table border=\"1\" class=\"dataframe\">\n",
       "  <thead>\n",
       "    <tr style=\"text-align: right;\">\n",
       "      <th></th>\n",
       "      <th>ID</th>\n",
       "      <th>item_cnt_month</th>\n",
       "    </tr>\n",
       "  </thead>\n",
       "  <tbody>\n",
       "    <tr>\n",
       "      <td>0</td>\n",
       "      <td>0</td>\n",
       "      <td>0.5</td>\n",
       "    </tr>\n",
       "    <tr>\n",
       "      <td>1</td>\n",
       "      <td>1</td>\n",
       "      <td>0.5</td>\n",
       "    </tr>\n",
       "    <tr>\n",
       "      <td>2</td>\n",
       "      <td>2</td>\n",
       "      <td>0.5</td>\n",
       "    </tr>\n",
       "    <tr>\n",
       "      <td>3</td>\n",
       "      <td>3</td>\n",
       "      <td>0.5</td>\n",
       "    </tr>\n",
       "    <tr>\n",
       "      <td>4</td>\n",
       "      <td>4</td>\n",
       "      <td>0.5</td>\n",
       "    </tr>\n",
       "  </tbody>\n",
       "</table>\n",
       "</div>"
      ],
      "text/plain": [
       "   ID  item_cnt_month\n",
       "0   0             0.5\n",
       "1   1             0.5\n",
       "2   2             0.5\n",
       "3   3             0.5\n",
       "4   4             0.5"
      ]
     },
     "execution_count": 30,
     "metadata": {},
     "output_type": "execute_result"
    }
   ],
   "source": [
    "sample_submission_df.head()"
   ]
  },
  {
   "cell_type": "code",
   "execution_count": 58,
   "metadata": {},
   "outputs": [],
   "source": [
    "# ### Lets filter the training data based on the test data. \n",
    "# - Training data has 21807 unique items sold across 60 shops\n",
    "# - Test data has 42 shops and 5100 items for each shop\n",
    "\n",
    "# train_df_org = train_df.copy(deep=True)\n",
    "\n",
    "# test_shop_list = list(test_df.shop_id.unique())\n",
    "# test_items_list = list(test_df.item_id.unique())\n",
    "\n",
    "# print(f'Shape of the training data before filtering {train_df.shape}')\n",
    "\n",
    "# train_df = train_df[train_df.shop_id.isin(test_shop_list) & train_df.item_id.isin(test_items_list)]\n",
    "\n",
    "# train_df.groupby('shop_id')['item_id'].nunique()"
   ]
  },
  {
   "cell_type": "markdown",
   "metadata": {},
   "source": [
    "### Check if for individual shop all the items are sold on all the days"
   ]
  },
  {
   "cell_type": "code",
   "execution_count": 74,
   "metadata": {},
   "outputs": [
    {
     "data": {
      "text/plain": [
       "date\n",
       "2013-01-02     80\n",
       "2013-01-03     54\n",
       "2013-01-04     50\n",
       "2013-01-05     45\n",
       "2013-01-06     49\n",
       "             ... \n",
       "2015-10-27     93\n",
       "2015-10-28    105\n",
       "2015-10-29    141\n",
       "2015-10-30    184\n",
       "2015-10-31    198\n",
       "Name: item_id, Length: 1030, dtype: int64"
      ]
     },
     "execution_count": 74,
     "metadata": {},
     "output_type": "execute_result"
    }
   ],
   "source": [
    "train_df_shop_25 = train_df[train_df.shop_id == 25]\n",
    "\n",
    "train_df_shop_25.groupby('date')['item_id'].nunique()"
   ]
  },
  {
   "cell_type": "code",
   "execution_count": 78,
   "metadata": {},
   "outputs": [
    {
     "data": {
      "text/plain": [
       "date\n",
       "2013-01-01    17\n",
       "2013-01-02    44\n",
       "2013-01-03    44\n",
       "2013-01-04    30\n",
       "2013-01-05    27\n",
       "              ..\n",
       "2015-10-27    46\n",
       "2015-10-28    49\n",
       "2015-10-29    38\n",
       "2015-10-30    43\n",
       "2015-10-31    86\n",
       "Name: item_id, Length: 1031, dtype: int64"
      ]
     },
     "execution_count": 78,
     "metadata": {},
     "output_type": "execute_result"
    }
   ],
   "source": [
    "train_df_shop_19 = train_df[train_df.shop_id == 19]\n",
    "\n",
    "train_df_shop_19.groupby('date')['item_id'].nunique()"
   ]
  },
  {
   "cell_type": "markdown",
   "metadata": {},
   "source": [
    "### Check if across shops all the items are sold on all the days"
   ]
  },
  {
   "cell_type": "code",
   "execution_count": 76,
   "metadata": {},
   "outputs": [
    {
     "data": {
      "text/plain": [
       "date\n",
       "2013-01-01     129\n",
       "2013-01-02     387\n",
       "2013-01-03     356\n",
       "2013-01-04     318\n",
       "2013-01-05     345\n",
       "              ... \n",
       "2015-10-27     827\n",
       "2015-10-28     797\n",
       "2015-10-29     897\n",
       "2015-10-30    1086\n",
       "2015-10-31    1253\n",
       "Name: item_id, Length: 1034, dtype: int64"
      ]
     },
     "execution_count": 76,
     "metadata": {},
     "output_type": "execute_result"
    }
   ],
   "source": [
    "train_df.groupby('date')['item_id'].nunique()"
   ]
  },
  {
   "cell_type": "code",
   "execution_count": 77,
   "metadata": {},
   "outputs": [
    {
     "data": {
      "text/plain": [
       "date\n",
       "2013-01-01    1117\n",
       "2013-01-02    2788\n",
       "2013-01-03    2726\n",
       "2013-01-04    2499\n",
       "2013-01-05    2504\n",
       "              ... \n",
       "2015-10-27     907\n",
       "2015-10-28     842\n",
       "2015-10-29     952\n",
       "2015-10-30    1180\n",
       "2015-10-31    1349\n",
       "Name: item_id, Length: 1034, dtype: int64"
      ]
     },
     "execution_count": 77,
     "metadata": {},
     "output_type": "execute_result"
    }
   ],
   "source": [
    "train_df_org.groupby('date')['item_id'].nunique()"
   ]
  },
  {
   "cell_type": "markdown",
   "metadata": {},
   "source": [
    "### Observation\n",
    "- Across shops all the items are not sold on all the days\n",
    "- For individual shops as well, all the items are not sold on all the days"
   ]
  },
  {
   "cell_type": "code",
   "execution_count": null,
   "metadata": {},
   "outputs": [],
   "source": []
  }
 ],
 "metadata": {
  "kernelspec": {
   "display_name": "py_37",
   "language": "python",
   "name": "py_37"
  },
  "language_info": {
   "codemirror_mode": {
    "name": "ipython",
    "version": 3
   },
   "file_extension": ".py",
   "mimetype": "text/x-python",
   "name": "python",
   "nbconvert_exporter": "python",
   "pygments_lexer": "ipython3",
   "version": "3.7.4"
  }
 },
 "nbformat": 4,
 "nbformat_minor": 4
}
