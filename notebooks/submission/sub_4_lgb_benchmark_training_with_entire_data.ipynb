{
 "cells": [
  {
   "cell_type": "markdown",
   "metadata": {},
   "source": [
    "## Simple benchmark using LGB\n",
    "\n",
    "Benchamrk with LGB item_cnt_month clipped between o to 20, validation on month before prediction (33)\n",
    "Final model is built using months upto 32 and final prediction is done on test data using that model."
   ]
  },
  {
   "cell_type": "code",
   "execution_count": 1,
   "metadata": {},
   "outputs": [],
   "source": [
    "import os\n",
    "import sys\n",
    "import pandas as pd"
   ]
  },
  {
   "cell_type": "code",
   "execution_count": 2,
   "metadata": {},
   "outputs": [],
   "source": [
    "sys.path.insert(0, os.path.abspath('/home/jupyter/kaggle/predict_future_sales/src/'))"
   ]
  },
  {
   "cell_type": "code",
   "execution_count": 3,
   "metadata": {},
   "outputs": [],
   "source": [
    "%load_ext autoreload\n",
    "%autoreload 2"
   ]
  },
  {
   "cell_type": "code",
   "execution_count": 4,
   "metadata": {},
   "outputs": [],
   "source": [
    "import common.com_util as util\n",
    "import munging.process_data as process_data\n",
    "import config.constants as constants\n",
    "import cv.cv_util as cv\n",
    "import modeling.train_util as model"
   ]
  },
  {
   "cell_type": "code",
   "execution_count": 5,
   "metadata": {},
   "outputs": [],
   "source": [
    "logger = util.get_logger('sub_2')"
   ]
  },
  {
   "cell_type": "code",
   "execution_count": 6,
   "metadata": {},
   "outputs": [
    {
     "name": "stderr",
     "output_type": "stream",
     "text": [
      "/home/jupyter/anaconda3/envs/py37/lib/python3.7/site-packages/pyarrow/pandas_compat.py:752: FutureWarning: .labels was deprecated in version 0.24.0. Use .codes instead.\n",
      "  labels, = index.labels\n"
     ]
    }
   ],
   "source": [
    "train_df = pd.read_feather('/home/jupyter/kaggle/predict_future_sales/data/processed/train_all_merged.feather')\n",
    "test_df = pd.read_feather('/home/jupyter/kaggle/predict_future_sales/data/processed/test_all_merged.feather')\n",
    "\n",
    "train_features = ['shop_id', 'item_id', 'date_block_num', 'item_category_id', 'item_cnt_month']\n",
    "train_df = train_df[train_features]\n",
    "\n",
    "test_features = ['ID', 'shop_id', 'item_id', 'date_block_num', 'item_category_id']\n",
    "test_df = test_df[test_features]\n",
    "\n",
    "sample_submission = pd.read_feather('/home/jupyter/kaggle/predict_future_sales/data/processed/submission_processed.feather')\n",
    "\n",
    "test = test_df.drop(['ID'], axis='columns')"
   ]
  },
  {
   "cell_type": "code",
   "execution_count": 7,
   "metadata": {},
   "outputs": [
    {
     "name": "stdout",
     "output_type": "stream",
     "text": [
      "[INFO]2020-09-08 05:38:00,429:sub_2:Splitting the data into train and holdout based on months...\n",
      "[INFO]2020-09-08 05:38:00,430:sub_2:Training months [0, 1, 2, 3, 4, 5, 6, 7, 8, 9, 10, 11, 12, 13, 14, 15, 16, 17, 18, 19, 20, 21, 22, 23, 24, 25, 26, 27, 28, 29, 30, 31, 32]\n",
      "[INFO]2020-09-08 05:38:00,431:sub_2:Validation months [33]\n",
      "[INFO]2020-09-08 05:38:01,556:sub_2:Shape of the training data (10675678, 5) \n",
      "[INFO]2020-09-08 05:38:01,557:sub_2:Shape of the validation data (238172, 5)\n"
     ]
    },
    {
     "name": "stderr",
     "output_type": "stream",
     "text": [
      "/home/jupyter/anaconda3/envs/py37/lib/python3.7/site-packages/pandas/core/generic.py:7415: SettingWithCopyWarning: \n",
      "A value is trying to be set on a copy of a slice from a DataFrame\n",
      "\n",
      "See the caveats in the documentation: http://pandas.pydata.org/pandas-docs/stable/user_guide/indexing.html#returning-a-view-versus-a-copy\n",
      "  self._update_inplace(result)\n"
     ]
    }
   ],
   "source": [
    "TARGET = 'item_cnt_month'\n",
    "ID = 'ID'\n",
    "SEED = 42\n",
    "\n",
    "training_months = [0,  1,  2,  3,  4,  5,  6,  7,  8,  9, 10, 11, 12, 13, 14, 15, 16,\n",
    "       17, 18, 19, 20, 21, 22, 23, 24, 25, 26, 27, 28, 29, 30, 31, 32]\n",
    "holdout_months = [33]\n",
    "\n",
    "training, validation = cv.get_data_splits_by_date_block(logger, train_df, \n",
    "                                                        train_months=training_months, \n",
    "                                                        validation_months=holdout_months)\n",
    "# Clip the item_cnt_month within 20\n",
    "training.item_cnt_month.clip(lower=0, upper=20, inplace=True)\n",
    "validation.item_cnt_month.clip(lower=0, upper=20, inplace=True)"
   ]
  },
  {
   "cell_type": "code",
   "execution_count": 8,
   "metadata": {},
   "outputs": [],
   "source": [
    "lgb_params = {\n",
    "                'objective' : 'root_mean_squared_error',\n",
    "                'boosting_type' : 'gbdt',\n",
    "                'learning_rate' : 0.1,\n",
    "                'num_leaves' : 31,\n",
    "                'tree_learner' : 'serial',\n",
    "                'n_jobs' :-1,\n",
    "                'seed' : SEED,\n",
    "                'max_depth' : -1,\n",
    "                'max_bin' : 255,\n",
    "                'metric' : 'rmse',\n",
    "                'verbose' : 100\n",
    "                }"
   ]
  },
  {
   "cell_type": "code",
   "execution_count": 9,
   "metadata": {},
   "outputs": [],
   "source": [
    "predictors = ['shop_id', 'item_id', 'date_block_num', 'item_category_id']"
   ]
  },
  {
   "cell_type": "code",
   "execution_count": 12,
   "metadata": {},
   "outputs": [
    {
     "name": "stdout",
     "output_type": "stream",
     "text": [
      "[INFO]2020-09-08 05:45:03,777:sub_2:Training using LGB and validating on holdout\n",
      "[INFO]2020-09-08 05:45:03,891:sub_2:Shape of train_X, train_Y, validation_X, validation_Y: (10675678, 4), (10675678,), (238172, 4), (238172,)\n",
      "Training until validation scores don't improve for 100 rounds\n",
      "[100]\ttraining's rmse: 1.10506\tvalid_1's rmse: 1.03643\n",
      "[200]\ttraining's rmse: 1.08403\tvalid_1's rmse: 1.02596\n",
      "[300]\ttraining's rmse: 1.07122\tvalid_1's rmse: 1.02005\n",
      "[400]\ttraining's rmse: 1.06171\tvalid_1's rmse: 1.01604\n",
      "[500]\ttraining's rmse: 1.05444\tvalid_1's rmse: 1.01293\n",
      "[600]\ttraining's rmse: 1.0486\tvalid_1's rmse: 1.01056\n",
      "[700]\ttraining's rmse: 1.04425\tvalid_1's rmse: 1.00948\n",
      "[800]\ttraining's rmse: 1.04055\tvalid_1's rmse: 1.00662\n",
      "[900]\ttraining's rmse: 1.03737\tvalid_1's rmse: 1.0053\n",
      "[1000]\ttraining's rmse: 1.03474\tvalid_1's rmse: 1.00565\n",
      "Early stopping, best iteration is:\n",
      "[906]\ttraining's rmse: 1.03719\tvalid_1's rmse: 1.00525\n",
      "[INFO]2020-09-08 05:47:28,917:sub_2:Validation Score 1.0052455937767015\n",
      "[INFO]2020-09-08 05:47:28,922:sub_2:Best Iteration 906\n",
      "[INFO]2020-09-08 05:47:29,095:sub_2:Retraining on the entire data including validation\n",
      "[INFO]2020-09-08 05:47:29,256:sub_2:Shape of train_X, train_Y: (10913850, 4), (10913850,)\n",
      "[INFO]2020-09-08 05:49:17,537:sub_2:Predicting on test data: (214200, 4)\n"
     ]
    }
   ],
   "source": [
    "bst, validation_score, prediction = model.lgb_train_validate_on_holdout(logger=logger, training=training, \n",
    "                                                            validation=validation, predictors=predictors, \n",
    "                                                            target=TARGET, params=lgb_params, \n",
    "                                                            test_X=test, n_estimators=10000,\n",
    "                                                            early_stopping_rounds=100)"
   ]
  },
  {
   "cell_type": "code",
   "execution_count": 15,
   "metadata": {},
   "outputs": [
    {
     "data": {
      "text/plain": [
       "(<lightgbm.basic.Booster at 0x7fc9ed18fa90>, 1.0052455937767015)"
      ]
     },
     "execution_count": 15,
     "metadata": {},
     "output_type": "execute_result"
    }
   ],
   "source": [
    "bst, validation_score"
   ]
  },
  {
   "cell_type": "code",
   "execution_count": 16,
   "metadata": {},
   "outputs": [
    {
     "data": {
      "text/plain": [
       "(214200,)"
      ]
     },
     "execution_count": 16,
     "metadata": {},
     "output_type": "execute_result"
    }
   ],
   "source": [
    "prediction.shape"
   ]
  },
  {
   "cell_type": "code",
   "execution_count": 18,
   "metadata": {},
   "outputs": [
    {
     "data": {
      "text/plain": [
       "array([0.58300424, 0.4513639 , 0.18785308, ..., 0.10960865, 0.11074544,\n",
       "       0.07246491])"
      ]
     },
     "execution_count": 18,
     "metadata": {},
     "output_type": "execute_result"
    }
   ],
   "source": [
    "prediction"
   ]
  },
  {
   "cell_type": "code",
   "execution_count": 19,
   "metadata": {},
   "outputs": [
    {
     "data": {
      "text/plain": [
       "(214200, 5)"
      ]
     },
     "execution_count": 19,
     "metadata": {},
     "output_type": "execute_result"
    }
   ],
   "source": [
    "test_df.shape"
   ]
  },
  {
   "cell_type": "code",
   "execution_count": 20,
   "metadata": {},
   "outputs": [
    {
     "data": {
      "text/html": [
       "<div>\n",
       "<style scoped>\n",
       "    .dataframe tbody tr th:only-of-type {\n",
       "        vertical-align: middle;\n",
       "    }\n",
       "\n",
       "    .dataframe tbody tr th {\n",
       "        vertical-align: top;\n",
       "    }\n",
       "\n",
       "    .dataframe thead th {\n",
       "        text-align: right;\n",
       "    }\n",
       "</style>\n",
       "<table border=\"1\" class=\"dataframe\">\n",
       "  <thead>\n",
       "    <tr style=\"text-align: right;\">\n",
       "      <th></th>\n",
       "      <th>ID</th>\n",
       "      <th>item_cnt_month</th>\n",
       "    </tr>\n",
       "  </thead>\n",
       "  <tbody>\n",
       "    <tr>\n",
       "      <td>0</td>\n",
       "      <td>0</td>\n",
       "      <td>0.5</td>\n",
       "    </tr>\n",
       "    <tr>\n",
       "      <td>1</td>\n",
       "      <td>1</td>\n",
       "      <td>0.5</td>\n",
       "    </tr>\n",
       "    <tr>\n",
       "      <td>2</td>\n",
       "      <td>2</td>\n",
       "      <td>0.5</td>\n",
       "    </tr>\n",
       "    <tr>\n",
       "      <td>3</td>\n",
       "      <td>3</td>\n",
       "      <td>0.5</td>\n",
       "    </tr>\n",
       "    <tr>\n",
       "      <td>4</td>\n",
       "      <td>4</td>\n",
       "      <td>0.5</td>\n",
       "    </tr>\n",
       "  </tbody>\n",
       "</table>\n",
       "</div>"
      ],
      "text/plain": [
       "   ID  item_cnt_month\n",
       "0   0             0.5\n",
       "1   1             0.5\n",
       "2   2             0.5\n",
       "3   3             0.5\n",
       "4   4             0.5"
      ]
     },
     "execution_count": 20,
     "metadata": {},
     "output_type": "execute_result"
    }
   ],
   "source": [
    "sample_submission.head()"
   ]
  },
  {
   "cell_type": "code",
   "execution_count": 21,
   "metadata": {},
   "outputs": [],
   "source": [
    "submission = pd.DataFrame({'ID': test_df.ID, 'item_cnt_month': prediction})"
   ]
  },
  {
   "cell_type": "code",
   "execution_count": 22,
   "metadata": {},
   "outputs": [
    {
     "data": {
      "text/plain": [
       "(214200, 2)"
      ]
     },
     "execution_count": 22,
     "metadata": {},
     "output_type": "execute_result"
    }
   ],
   "source": [
    "submission.shape"
   ]
  },
  {
   "cell_type": "code",
   "execution_count": null,
   "metadata": {},
   "outputs": [],
   "source": []
  }
 ],
 "metadata": {
  "kernelspec": {
   "display_name": "py_37",
   "language": "python",
   "name": "py_37"
  },
  "language_info": {
   "codemirror_mode": {
    "name": "ipython",
    "version": 3
   },
   "file_extension": ".py",
   "mimetype": "text/x-python",
   "name": "python",
   "nbconvert_exporter": "python",
   "pygments_lexer": "ipython3",
   "version": "3.7.4"
  }
 },
 "nbformat": 4,
 "nbformat_minor": 4
}
