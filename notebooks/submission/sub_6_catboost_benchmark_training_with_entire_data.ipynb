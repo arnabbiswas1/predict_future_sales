{
 "cells": [
  {
   "cell_type": "markdown",
   "metadata": {},
   "source": [
    "## Simple benchmark using XGB\n",
    "\n",
    "Benchamrk with XGB item_cnt_month clipped between o to 20, validation on month before prediction (33)\n",
    "Final model is built using months upto 32 and final prediction is done on test data using that model."
   ]
  },
  {
   "cell_type": "code",
   "execution_count": 1,
   "metadata": {},
   "outputs": [],
   "source": [
    "import os\n",
    "import sys\n",
    "\n",
    "import pandas as pd\n",
    "import xgboost as xgb\n",
    "\n",
    "sys.path.insert(0, os.path.abspath('/home/jupyter/kaggle/predict_future_sales/src/'))\n",
    "\n",
    "import common.com_util as util\n",
    "import config.constants as constants\n",
    "import cv.cv_util as cv\n",
    "import munging.process_data as process_data\n",
    "import modeling.train_util as model"
   ]
  },
  {
   "cell_type": "code",
   "execution_count": 2,
   "metadata": {},
   "outputs": [],
   "source": [
    "%load_ext autoreload\n",
    "%autoreload 2"
   ]
  },
  {
   "cell_type": "code",
   "execution_count": 3,
   "metadata": {},
   "outputs": [
    {
     "name": "stderr",
     "output_type": "stream",
     "text": [
      "/home/jupyter/anaconda3/envs/py37/lib/python3.7/site-packages/pyarrow/pandas_compat.py:752: FutureWarning: .labels was deprecated in version 0.24.0. Use .codes instead.\n",
      "  labels, = index.labels\n"
     ]
    }
   ],
   "source": [
    "logger = util.get_logger('sub_2')\n",
    "\n",
    "train_df = pd.read_feather('/home/jupyter/kaggle/predict_future_sales/data/processed/train_all_merged.feather')\n",
    "test_df = pd.read_feather('/home/jupyter/kaggle/predict_future_sales/data/processed/test_all_merged.feather')\n",
    "\n",
    "train_features = ['shop_id', 'item_id', 'date_block_num', 'item_category_id', 'item_cnt_month']\n",
    "train_df = train_df[train_features]\n",
    "\n",
    "test_features = ['ID', 'shop_id', 'item_id', 'date_block_num', 'item_category_id']\n",
    "test_df = test_df[test_features]\n",
    "\n",
    "sample_submission = pd.read_feather('/home/jupyter/kaggle/predict_future_sales/data/processed/submission_processed.feather')\n",
    "\n",
    "test = test_df.drop(['ID'], axis='columns')\n",
    "\n",
    "# Clip the item_cnt_month within 20\n",
    "train_df.item_cnt_month.clip(lower=0, upper=20, inplace=True)"
   ]
  },
  {
   "cell_type": "code",
   "execution_count": 4,
   "metadata": {},
   "outputs": [
    {
     "name": "stdout",
     "output_type": "stream",
     "text": [
      "[INFO]2020-09-10 06:19:32,237:sub_2:Splitting the data into train and holdout based on months...\n",
      "[INFO]2020-09-10 06:19:32,238:sub_2:Training months [0, 1, 2, 3, 4, 5, 6, 7, 8, 9, 10, 11, 12, 13, 14, 15, 16, 17, 18, 19, 20, 21, 22, 23, 24, 25, 26, 27, 28, 29, 30, 31, 32]\n",
      "[INFO]2020-09-10 06:19:32,239:sub_2:Validation months [33]\n",
      "[INFO]2020-09-10 06:19:33,137:sub_2:Shape of the training data (10675678, 5) \n",
      "[INFO]2020-09-10 06:19:33,138:sub_2:Shape of the validation data (238172, 5)\n"
     ]
    }
   ],
   "source": [
    "TARGET = 'item_cnt_month'\n",
    "ID = 'ID'\n",
    "SEED = 42\n",
    "\n",
    "training_months = [0,  1,  2,  3,  4,  5,  6,  7,  8,  9, 10, 11, 12, 13, 14, 15, 16,\n",
    "       17, 18, 19, 20, 21, 22, 23, 24, 25, 26, 27, 28, 29, 30, 31, 32]\n",
    "holdout_months = [33]\n",
    "\n",
    "training, validation = cv.get_data_splits_by_date_block(logger, train_df, \n",
    "                                                        train_months=training_months, \n",
    "                                                        validation_months=holdout_months)"
   ]
  },
  {
   "cell_type": "code",
   "execution_count": 5,
   "metadata": {},
   "outputs": [],
   "source": [
    "cat_params = {\n",
    "                \"objective\": \"RMSE\", # Alias loss_function\n",
    "                \"custom_metric\": \"RMSE\",\n",
    "                \"eval_metric\": 'RMSE',\n",
    "                \"n_estimators\": 10000,\n",
    "                \"learning_rate\": 0.03,\n",
    "                \"random_seed\": SEED,\n",
    "                \"early_stopping_rounds\": 100,\n",
    "                \"use_best_model\": True,\n",
    "                \"max_depth\": 16,\n",
    "                \"max_bin\": 254,\n",
    "                \"thread_count\":-1,\n",
    "                'boosting_type': 'Plain',\n",
    "                'verbose_eval': 100,\n",
    "                }"
   ]
  },
  {
   "cell_type": "code",
   "execution_count": 6,
   "metadata": {},
   "outputs": [],
   "source": [
    "predictors = ['shop_id', 'item_id', 'date_block_num', 'item_category_id']"
   ]
  },
  {
   "cell_type": "code",
   "execution_count": null,
   "metadata": {},
   "outputs": [
    {
     "name": "stdout",
     "output_type": "stream",
     "text": [
      "[INFO]2020-09-10 06:19:33,196:sub_2:Training using CatBoost and validating on holdout\n",
      "[INFO]2020-09-10 06:19:33,283:sub_2:Shape of train_X, train_Y, validation_X, validation_Y: (10675678, 4), (10675678,), (238172, 4), (238172,)\n",
      "0:\tlearn: 1.2067754\ttest: 1.2050395\ttest1: 1.1338335\tbest: 1.1338335 (0)\ttotal: 19.2s\tremaining: 2d 5h 17m 45s\n",
      "100:\tlearn: 0.8031744\ttest: 0.7508132\ttest1: 1.0307617\tbest: 1.0307617 (100)\ttotal: 10m 19s\tremaining: 16h 52m 40s\n",
      "200:\tlearn: 0.7734562\ttest: 0.7249260\ttest1: 1.0203710\tbest: 1.0203710 (200)\ttotal: 20m 3s\tremaining: 16h 17m 35s\n"
     ]
    }
   ],
   "source": [
    "bst, best_iteration, valid_score, prediction = model.cat_train_validate_on_holdout(\n",
    "        logger=logger, training=training, validation=validation, \n",
    "        predictors=predictors, target=TARGET, cat_features=predictors, params=cat_params, test_X=test\n",
    "    )"
   ]
  },
  {
   "cell_type": "code",
   "execution_count": 14,
   "metadata": {},
   "outputs": [
    {
     "data": {
      "text/plain": [
       "(<xgboost.core.Booster at 0x7f103aefc090>, 158, 1.0116379)"
      ]
     },
     "execution_count": 14,
     "metadata": {},
     "output_type": "execute_result"
    }
   ],
   "source": [
    "bst, best_iteration, valid_score"
   ]
  },
  {
   "cell_type": "code",
   "execution_count": 15,
   "metadata": {},
   "outputs": [
    {
     "data": {
      "text/plain": [
       "array([0.38830838, 0.24504653, 0.13283464, ..., 0.09535095, 0.09556562,\n",
       "       0.20091727], dtype=float32)"
      ]
     },
     "execution_count": 15,
     "metadata": {},
     "output_type": "execute_result"
    }
   ],
   "source": [
    "prediction"
   ]
  },
  {
   "cell_type": "code",
   "execution_count": 16,
   "metadata": {},
   "outputs": [
    {
     "data": {
      "text/plain": [
       "(214200, 5)"
      ]
     },
     "execution_count": 16,
     "metadata": {},
     "output_type": "execute_result"
    }
   ],
   "source": [
    "test_df.shape"
   ]
  },
  {
   "cell_type": "code",
   "execution_count": 17,
   "metadata": {},
   "outputs": [
    {
     "data": {
      "text/html": [
       "<div>\n",
       "<style scoped>\n",
       "    .dataframe tbody tr th:only-of-type {\n",
       "        vertical-align: middle;\n",
       "    }\n",
       "\n",
       "    .dataframe tbody tr th {\n",
       "        vertical-align: top;\n",
       "    }\n",
       "\n",
       "    .dataframe thead th {\n",
       "        text-align: right;\n",
       "    }\n",
       "</style>\n",
       "<table border=\"1\" class=\"dataframe\">\n",
       "  <thead>\n",
       "    <tr style=\"text-align: right;\">\n",
       "      <th></th>\n",
       "      <th>ID</th>\n",
       "      <th>item_cnt_month</th>\n",
       "    </tr>\n",
       "  </thead>\n",
       "  <tbody>\n",
       "    <tr>\n",
       "      <td>0</td>\n",
       "      <td>0</td>\n",
       "      <td>0.5</td>\n",
       "    </tr>\n",
       "    <tr>\n",
       "      <td>1</td>\n",
       "      <td>1</td>\n",
       "      <td>0.5</td>\n",
       "    </tr>\n",
       "    <tr>\n",
       "      <td>2</td>\n",
       "      <td>2</td>\n",
       "      <td>0.5</td>\n",
       "    </tr>\n",
       "    <tr>\n",
       "      <td>3</td>\n",
       "      <td>3</td>\n",
       "      <td>0.5</td>\n",
       "    </tr>\n",
       "    <tr>\n",
       "      <td>4</td>\n",
       "      <td>4</td>\n",
       "      <td>0.5</td>\n",
       "    </tr>\n",
       "  </tbody>\n",
       "</table>\n",
       "</div>"
      ],
      "text/plain": [
       "   ID  item_cnt_month\n",
       "0   0             0.5\n",
       "1   1             0.5\n",
       "2   2             0.5\n",
       "3   3             0.5\n",
       "4   4             0.5"
      ]
     },
     "execution_count": 17,
     "metadata": {},
     "output_type": "execute_result"
    }
   ],
   "source": [
    "sample_submission.head()"
   ]
  },
  {
   "cell_type": "code",
   "execution_count": 18,
   "metadata": {},
   "outputs": [],
   "source": [
    "submission = pd.DataFrame({'ID': test_df.ID, 'item_cnt_month': prediction})"
   ]
  },
  {
   "cell_type": "code",
   "execution_count": 19,
   "metadata": {},
   "outputs": [
    {
     "data": {
      "text/html": [
       "<div>\n",
       "<style scoped>\n",
       "    .dataframe tbody tr th:only-of-type {\n",
       "        vertical-align: middle;\n",
       "    }\n",
       "\n",
       "    .dataframe tbody tr th {\n",
       "        vertical-align: top;\n",
       "    }\n",
       "\n",
       "    .dataframe thead th {\n",
       "        text-align: right;\n",
       "    }\n",
       "</style>\n",
       "<table border=\"1\" class=\"dataframe\">\n",
       "  <thead>\n",
       "    <tr style=\"text-align: right;\">\n",
       "      <th></th>\n",
       "      <th>ID</th>\n",
       "      <th>item_cnt_month</th>\n",
       "    </tr>\n",
       "  </thead>\n",
       "  <tbody>\n",
       "    <tr>\n",
       "      <td>0</td>\n",
       "      <td>0</td>\n",
       "      <td>0.388308</td>\n",
       "    </tr>\n",
       "    <tr>\n",
       "      <td>1</td>\n",
       "      <td>1</td>\n",
       "      <td>0.245047</td>\n",
       "    </tr>\n",
       "    <tr>\n",
       "      <td>2</td>\n",
       "      <td>2</td>\n",
       "      <td>0.132835</td>\n",
       "    </tr>\n",
       "    <tr>\n",
       "      <td>3</td>\n",
       "      <td>3</td>\n",
       "      <td>-0.011641</td>\n",
       "    </tr>\n",
       "    <tr>\n",
       "      <td>4</td>\n",
       "      <td>4</td>\n",
       "      <td>0.167597</td>\n",
       "    </tr>\n",
       "  </tbody>\n",
       "</table>\n",
       "</div>"
      ],
      "text/plain": [
       "   ID  item_cnt_month\n",
       "0   0        0.388308\n",
       "1   1        0.245047\n",
       "2   2        0.132835\n",
       "3   3       -0.011641\n",
       "4   4        0.167597"
      ]
     },
     "execution_count": 19,
     "metadata": {},
     "output_type": "execute_result"
    }
   ],
   "source": [
    "submission.head()"
   ]
  },
  {
   "cell_type": "code",
   "execution_count": null,
   "metadata": {},
   "outputs": [],
   "source": []
  }
 ],
 "metadata": {
  "kernelspec": {
   "display_name": "py_37",
   "language": "python",
   "name": "py_37"
  },
  "language_info": {
   "codemirror_mode": {
    "name": "ipython",
    "version": 3
   },
   "file_extension": ".py",
   "mimetype": "text/x-python",
   "name": "python",
   "nbconvert_exporter": "python",
   "pygments_lexer": "ipython3",
   "version": "3.7.4"
  }
 },
 "nbformat": 4,
 "nbformat_minor": 4
}
